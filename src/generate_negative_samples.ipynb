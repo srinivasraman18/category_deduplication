{
 "cells": [
  {
   "cell_type": "code",
   "execution_count": 3,
   "id": "3cd4507e",
   "metadata": {},
   "outputs": [],
   "source": [
    "import pandas as pd\n",
    "from itertools import product\n",
    "from tqdm import tqdm"
   ]
  },
  {
   "cell_type": "code",
   "execution_count": null,
   "id": "00ed2c70",
   "metadata": {},
   "outputs": [],
   "source": [
    "import json\n",
    "with open(\"negative_samples_v2.json\", \"r\") as f:\n",
    "    negative_samples = json.load(f)"
   ]
  },
  {
   "cell_type": "code",
   "execution_count": 18,
   "id": "6275a15c",
   "metadata": {},
   "outputs": [
    {
     "name": "stderr",
     "output_type": "stream",
     "text": [
      "100%|█████████████████████████████████████████████████████████████████████████| 12065/12065 [00:00<00:00, 93530.11it/s]\n"
     ]
    }
   ],
   "source": [
    "negative_data = []\n",
    "for key,vals in tqdm(negative_samples.items()):\n",
    "    curr_data = list(product([key],vals))\n",
    "    for data in curr_data:\n",
    "        negative_data.append([data[0],data[1],0])"
   ]
  },
  {
   "cell_type": "code",
   "execution_count": 19,
   "id": "4acca637",
   "metadata": {},
   "outputs": [],
   "source": [
    "negative_df = pd.DataFrame(negative_data,columns=['cat0','cat1','label'])\n",
    "negative_df.to_csv(\"synthetic_negatives.csv\",index=False)"
   ]
  },
  {
   "cell_type": "code",
   "execution_count": 37,
   "id": "549cbab4",
   "metadata": {},
   "outputs": [],
   "source": [
    "positive_df = pd.read_csv(\"synthetic_positives.csv\")\n",
    "positive_df.drop(columns=['filename'],inplace=True)"
   ]
  },
  {
   "cell_type": "code",
   "execution_count": 31,
   "id": "399014f1",
   "metadata": {},
   "outputs": [],
   "source": [
    "synthetic_df = pd.concat([positive_df,negative_df])"
   ]
  },
  {
   "cell_type": "code",
   "execution_count": 34,
   "id": "4abd406f",
   "metadata": {},
   "outputs": [
    {
     "data": {
      "text/html": [
       "<div>\n",
       "<style scoped>\n",
       "    .dataframe tbody tr th:only-of-type {\n",
       "        vertical-align: middle;\n",
       "    }\n",
       "\n",
       "    .dataframe tbody tr th {\n",
       "        vertical-align: top;\n",
       "    }\n",
       "\n",
       "    .dataframe thead th {\n",
       "        text-align: right;\n",
       "    }\n",
       "</style>\n",
       "<table border=\"1\" class=\"dataframe\">\n",
       "  <thead>\n",
       "    <tr style=\"text-align: right;\">\n",
       "      <th></th>\n",
       "      <th>index</th>\n",
       "      <th>cat0</th>\n",
       "      <th>cat1</th>\n",
       "      <th>label</th>\n",
       "    </tr>\n",
       "  </thead>\n",
       "  <tbody>\n",
       "    <tr>\n",
       "      <th>0</th>\n",
       "      <td>9464</td>\n",
       "      <td>Michigan</td>\n",
       "      <td>MI</td>\n",
       "      <td>1</td>\n",
       "    </tr>\n",
       "    <tr>\n",
       "      <th>1</th>\n",
       "      <td>27135</td>\n",
       "      <td>Yakima County</td>\n",
       "      <td>Lorain County</td>\n",
       "      <td>0</td>\n",
       "    </tr>\n",
       "    <tr>\n",
       "      <th>2</th>\n",
       "      <td>70442</td>\n",
       "      <td>Tokyo International Film Festival</td>\n",
       "      <td>Cinema for Peace Awards</td>\n",
       "      <td>0</td>\n",
       "    </tr>\n",
       "    <tr>\n",
       "      <th>3</th>\n",
       "      <td>43939</td>\n",
       "      <td>United Arab Emirates</td>\n",
       "      <td>Oman</td>\n",
       "      <td>0</td>\n",
       "    </tr>\n",
       "    <tr>\n",
       "      <th>4</th>\n",
       "      <td>5078</td>\n",
       "      <td>Belgium</td>\n",
       "      <td>Belgique</td>\n",
       "      <td>1</td>\n",
       "    </tr>\n",
       "    <tr>\n",
       "      <th>...</th>\n",
       "      <td>...</td>\n",
       "      <td>...</td>\n",
       "      <td>...</td>\n",
       "      <td>...</td>\n",
       "    </tr>\n",
       "    <tr>\n",
       "      <th>143453</th>\n",
       "      <td>66379</td>\n",
       "      <td>other_recovered_gases</td>\n",
       "      <td>gasworks_gas</td>\n",
       "      <td>0</td>\n",
       "    </tr>\n",
       "    <tr>\n",
       "      <th>143454</th>\n",
       "      <td>119943</td>\n",
       "      <td>Riesling</td>\n",
       "      <td>Rufete</td>\n",
       "      <td>0</td>\n",
       "    </tr>\n",
       "    <tr>\n",
       "      <th>143455</th>\n",
       "      <td>13187</td>\n",
       "      <td>Vermentino di Toscana</td>\n",
       "      <td>Sangiovese di Toscana</td>\n",
       "      <td>0</td>\n",
       "    </tr>\n",
       "    <tr>\n",
       "      <th>143456</th>\n",
       "      <td>88864</td>\n",
       "      <td>Higher Education (Women)</td>\n",
       "      <td>Women Entrepreneurs</td>\n",
       "      <td>0</td>\n",
       "    </tr>\n",
       "    <tr>\n",
       "      <th>143457</th>\n",
       "      <td>23574</td>\n",
       "      <td>Garfield</td>\n",
       "      <td>Adolphus</td>\n",
       "      <td>0</td>\n",
       "    </tr>\n",
       "  </tbody>\n",
       "</table>\n",
       "<p>143458 rows × 4 columns</p>\n",
       "</div>"
      ],
      "text/plain": [
       "         index                               cat0                     cat1  \\\n",
       "0         9464                           Michigan                       MI   \n",
       "1        27135                      Yakima County            Lorain County   \n",
       "2        70442  Tokyo International Film Festival  Cinema for Peace Awards   \n",
       "3        43939               United Arab Emirates                     Oman   \n",
       "4         5078                            Belgium                 Belgique   \n",
       "...        ...                                ...                      ...   \n",
       "143453   66379              other_recovered_gases             gasworks_gas   \n",
       "143454  119943                           Riesling                   Rufete   \n",
       "143455   13187              Vermentino di Toscana    Sangiovese di Toscana   \n",
       "143456   88864           Higher Education (Women)      Women Entrepreneurs   \n",
       "143457   23574                           Garfield                 Adolphus   \n",
       "\n",
       "        label  \n",
       "0           1  \n",
       "1           0  \n",
       "2           0  \n",
       "3           0  \n",
       "4           1  \n",
       "...       ...  \n",
       "143453      0  \n",
       "143454      0  \n",
       "143455      0  \n",
       "143456      0  \n",
       "143457      0  \n",
       "\n",
       "[143458 rows x 4 columns]"
      ]
     },
     "execution_count": 34,
     "metadata": {},
     "output_type": "execute_result"
    }
   ],
   "source": [
    "synthetic_df = synthetic_df.sample(frac=1).reset_index()\n",
    "synthetic_df"
   ]
  },
  {
   "cell_type": "code",
   "execution_count": 35,
   "id": "5b63d536",
   "metadata": {},
   "outputs": [],
   "source": [
    "synthetic_df.to_csv(\"synthetic_data_final.csv\",index=False)"
   ]
  },
  {
   "cell_type": "code",
   "execution_count": 30,
   "id": "f87b7637",
   "metadata": {},
   "outputs": [
    {
     "data": {
      "text/plain": [
       "Index(['cat0', 'cat1', 'label'], dtype='object')"
      ]
     },
     "execution_count": 30,
     "metadata": {},
     "output_type": "execute_result"
    }
   ],
   "source": [
    "negative_df.columns"
   ]
  },
  {
   "cell_type": "code",
   "execution_count": 38,
   "id": "e377b6fb",
   "metadata": {},
   "outputs": [
    {
     "data": {
      "text/html": [
       "<div>\n",
       "<style scoped>\n",
       "    .dataframe tbody tr th:only-of-type {\n",
       "        vertical-align: middle;\n",
       "    }\n",
       "\n",
       "    .dataframe tbody tr th {\n",
       "        vertical-align: top;\n",
       "    }\n",
       "\n",
       "    .dataframe thead th {\n",
       "        text-align: right;\n",
       "    }\n",
       "</style>\n",
       "<table border=\"1\" class=\"dataframe\">\n",
       "  <thead>\n",
       "    <tr style=\"text-align: right;\">\n",
       "      <th></th>\n",
       "      <th>cat0</th>\n",
       "      <th>cat1</th>\n",
       "      <th>label</th>\n",
       "    </tr>\n",
       "  </thead>\n",
       "  <tbody>\n",
       "    <tr>\n",
       "      <th>0</th>\n",
       "      <td>California</td>\n",
       "      <td>CA</td>\n",
       "      <td>1</td>\n",
       "    </tr>\n",
       "    <tr>\n",
       "      <th>1</th>\n",
       "      <td>California</td>\n",
       "      <td>Golden_State</td>\n",
       "      <td>1</td>\n",
       "    </tr>\n",
       "    <tr>\n",
       "      <th>2</th>\n",
       "      <td>California</td>\n",
       "      <td>Calif.</td>\n",
       "      <td>1</td>\n",
       "    </tr>\n",
       "    <tr>\n",
       "      <th>3</th>\n",
       "      <td>Toscana</td>\n",
       "      <td>Tuscany</td>\n",
       "      <td>1</td>\n",
       "    </tr>\n",
       "    <tr>\n",
       "      <th>4</th>\n",
       "      <td>Sicilia</td>\n",
       "      <td>Sicily</td>\n",
       "      <td>1</td>\n",
       "    </tr>\n",
       "    <tr>\n",
       "      <th>...</th>\n",
       "      <td>...</td>\n",
       "      <td>...</td>\n",
       "      <td>...</td>\n",
       "    </tr>\n",
       "    <tr>\n",
       "      <th>13995</th>\n",
       "      <td>State</td>\n",
       "      <td>state</td>\n",
       "      <td>1</td>\n",
       "    </tr>\n",
       "    <tr>\n",
       "      <th>13996</th>\n",
       "      <td>State</td>\n",
       "      <td>province</td>\n",
       "      <td>1</td>\n",
       "    </tr>\n",
       "    <tr>\n",
       "      <th>13997</th>\n",
       "      <td>Depreciation</td>\n",
       "      <td>depreciation</td>\n",
       "      <td>1</td>\n",
       "    </tr>\n",
       "    <tr>\n",
       "      <th>13998</th>\n",
       "      <td>Actives</td>\n",
       "      <td>active</td>\n",
       "      <td>1</td>\n",
       "    </tr>\n",
       "    <tr>\n",
       "      <th>13999</th>\n",
       "      <td>Actives</td>\n",
       "      <td>active_agent</td>\n",
       "      <td>1</td>\n",
       "    </tr>\n",
       "  </tbody>\n",
       "</table>\n",
       "<p>14000 rows × 3 columns</p>\n",
       "</div>"
      ],
      "text/plain": [
       "               cat0          cat1  label\n",
       "0        California            CA      1\n",
       "1        California  Golden_State      1\n",
       "2        California        Calif.      1\n",
       "3           Toscana       Tuscany      1\n",
       "4           Sicilia        Sicily      1\n",
       "...             ...           ...    ...\n",
       "13995         State         state      1\n",
       "13996         State      province      1\n",
       "13997  Depreciation  depreciation      1\n",
       "13998       Actives        active      1\n",
       "13999       Actives  active_agent      1\n",
       "\n",
       "[14000 rows x 3 columns]"
      ]
     },
     "execution_count": 38,
     "metadata": {},
     "output_type": "execute_result"
    }
   ],
   "source": [
    "positive_df"
   ]
  },
  {
   "cell_type": "code",
   "execution_count": null,
   "id": "d75428fa",
   "metadata": {},
   "outputs": [],
   "source": []
  }
 ],
 "metadata": {
  "kernelspec": {
   "display_name": "ai_env",
   "language": "python",
   "name": "ai_env"
  },
  "language_info": {
   "codemirror_mode": {
    "name": "ipython",
    "version": 3
   },
   "file_extension": ".py",
   "mimetype": "text/x-python",
   "name": "python",
   "nbconvert_exporter": "python",
   "pygments_lexer": "ipython3",
   "version": "3.9.4"
  }
 },
 "nbformat": 4,
 "nbformat_minor": 5
}
